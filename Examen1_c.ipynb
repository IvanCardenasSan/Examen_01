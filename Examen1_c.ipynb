{
  "nbformat": 4,
  "nbformat_minor": 0,
  "metadata": {
    "colab": {
      "name": "Examen1.c",
      "provenance": [],
      "collapsed_sections": []
    },
    "kernelspec": {
      "name": "python3",
      "display_name": "Python 3"
    }
  },
  "cells": [
    {
      "cell_type": "code",
      "metadata": {
        "id": "yWbG1xX2RkRG"
      },
      "source": [
        "#Problema1\n",
        "import math\n",
        "\n",
        "z =4\n",
        "print(\"Teniendo en cuenta que Ax^2 + Bx + c\")\n",
        "a = float(input(\"Ingrese el valor de A: \"))\n",
        "b = float(input(\"Ingrese el valor de B: \"))\n",
        "c = float(input(\"Ingrese el valor de C: \"))\n",
        "disc=((b**2)-(z*a*c))\n",
        "raiz=(disc)**(0.5)\n",
        "\n",
        "while (disc<=0):\n",
        "  print(\"Error, el deiscriminante tiene que ser positio, digite los numeros de nuevo\")\n",
        "  a = float(input(\"Ingrese el valor de A: \"))\n",
        "  b = float(input(\"Ingrese el valor de B: \"))\n",
        "  c = float(input(\"Ingrese el valor de C: \"))\n",
        "  disc=((b**2)-(z*a*c))\n",
        "  raiz=(disc)**(0.5)\n",
        "\n",
        "X1=((-b)+raiz)/(2*a)\n",
        "X2=((-b)-raiz)/(2*a)\n",
        "print(\"X1= \",X1)\n",
        "print(\"X2= \",X2)\n",
        "\n"
      ],
      "execution_count": null,
      "outputs": []
    },
    {
      "cell_type": "code",
      "metadata": {
        "id": "90w9CXd3ZwTo"
      },
      "source": [
        "#Problema2\n",
        "def funcion(x):\n",
        "  x = (x**2)+(3*x)+3\n",
        "  return x\n",
        "\n",
        "x = int(input(\"Ingrese el valor de x: \"))\n",
        "x = funcion(x)\n",
        "\n",
        "cont = -4\n",
        "while (cont <= 10):\n",
        "  cont = cont + 1\n",
        "  x= (cont**2)+(3*cont)+3\n",
        "  print(cont,\"valor de x:\",x)\n",
        "  if (x>30):\n",
        "    break\n",
        "    print(cont)\n"
      ],
      "execution_count": null,
      "outputs": []
    }
  ]
}